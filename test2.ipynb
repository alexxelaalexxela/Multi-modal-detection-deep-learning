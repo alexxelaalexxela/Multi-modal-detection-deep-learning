{
 "cells": [
  {
   "cell_type": "code",
   "execution_count": 14,
   "metadata": {},
   "outputs": [
    {
     "name": "stderr",
     "output_type": "stream",
     "text": [
      "\u001b[32m[0628 12:09.47 @dd.py:459]\u001b[0m  \u001b[32mINF\u001b[0m  \u001b[97mConfig: \n",
      " {'DEVICE': device(type='mps'),\n",
      " 'LANGUAGE': 'eng',\n",
      " 'LAYOUT_NMS_PAIRS': {'COMBINATIONS': None, 'PRIORITY': None, 'THRESHOLDS': None},\n",
      " 'LIB': 'PT',\n",
      " 'OCR': {'CONFIG': {'TESSERACT': 'dd/conf_tesseract.yaml'},\n",
      "         'USE_DOCTR': False,\n",
      "         'USE_TESSERACT': True,\n",
      "         'USE_TEXTRACT': False,\n",
      "         'WEIGHTS': {'DOCTR_RECOGNITION': {'PT': 'doctr/crnn_vgg16_bn/pt/crnn_vgg16_bn-9762b0b0.pt',\n",
      "                                           'TF': 'doctr/crnn_vgg16_bn/tf/crnn_vgg16_bn-76b7f2c6.zip'},\n",
      "                     'DOCTR_WORD': {'PT': 'doctr/db_resnet50/pt/db_resnet50-ac60cadc.pt',\n",
      "                                    'TF': 'doctr/db_resnet50/tf/db_resnet50-adcafc63.zip'}}},\n",
      " 'PDF_MINER': {'X_TOLERANCE': 3, 'Y_TOLERANCE': 3},\n",
      " 'PT': {'CELL': {'FILTER': None,\n",
      "                 'WEIGHTS': 'cell/d2_model_1849999_cell_inf_only.pt',\n",
      "                 'WEIGHTS_TS': 'cell/d2_model_1849999_cell_inf_only.ts'},\n",
      "        'ITEM': {'FILTER': None,\n",
      "                 'PAD': {'BOTTOM': 60, 'LEFT': 60, 'RIGHT': 60, 'TOP': 60},\n",
      "                 'WEIGHTS': 'item/d2_model_1639999_item_inf_only.pt',\n",
      "                 'WEIGHTS_TS': 'item/d2_model_1639999_item_inf_only.ts'},\n",
      "        'LAYOUT': {'FILTER': None,\n",
      "                   'PAD': {'BOTTOM': 60, 'LEFT': 60, 'RIGHT': 60, 'TOP': 60},\n",
      "                   'WEIGHTS': 'layout/d2_model_0829999_layout_inf_only.pt',\n",
      "                   'WEIGHTS_TS': 'layout/d2_model_0829999_layout_inf_only.ts'}},\n",
      " 'SEGMENTATION': {'ASSIGNMENT_RULE': 'ioa',\n",
      "                  'CELL_CATEGORY_ID': 12,\n",
      "                  'FULL_TABLE_TILING': True,\n",
      "                  'REMOVE_IOU_THRESHOLD_COLS': 0.001,\n",
      "                  'REMOVE_IOU_THRESHOLD_ROWS': 0.001,\n",
      "                  'STRETCH_RULE': 'equal',\n",
      "                  'THRESHOLD_COLS': 0.4,\n",
      "                  'THRESHOLD_ROWS': 0.4},\n",
      " 'TEXT_ORDERING': {'BROKEN_LINE_TOLERANCE': 0.003,\n",
      "                   'FLOATING_TEXT_BLOCK_CATEGORIES': ['title', 'text', 'list'],\n",
      "                   'HEIGHT_TOLERANCE': 2.0,\n",
      "                   'INCLUDE_RESIDUAL_TEXT_CONTAINER': False,\n",
      "                   'PARAGRAPH_BREAK': 0.035,\n",
      "                   'STARTING_POINT_TOLERANCE': 0.005,\n",
      "                   'TEXT_BLOCK_CATEGORIES': ['title', 'text', 'list', 'cell', 'column_header',\n",
      "                                             'projected_row_header', 'spanning', 'row_header']},\n",
      " 'TF': {'CELL': {'FILTER': None, 'WEIGHTS': 'cell/model-1800000_inf_only.data-00000-of-00001'},\n",
      "        'ITEM': {'FILTER': None, 'WEIGHTS': 'item/model-1620000_inf_only.data-00000-of-00001'},\n",
      "        'LAYOUT': {'FILTER': None, 'WEIGHTS': 'layout/model-800000_inf_only.data-00000-of-00001'}},\n",
      " 'USE_LAYOUT': True,\n",
      " 'USE_OCR': True,\n",
      " 'USE_PDF_MINER': True,\n",
      " 'USE_TABLE_REFINEMENT': True,\n",
      " 'USE_TABLE_SEGMENTATION': True,\n",
      " 'WORD_MATCHING': {'MAX_PARENT_ONLY': True,\n",
      "                   'PARENTAL_CATEGORIES': ['text', 'title', 'list', 'cell', 'column_header',\n",
      "                                           'projected_row_header', 'spanning', 'row_header'],\n",
      "                   'RULE': 'ioa',\n",
      "                   'THRESHOLD': 0.6}}\u001b[0m\n",
      "\u001b[32m[0628 12:09.48 @_utils.py:467]\u001b[0m  \u001b[5m\u001b[35mWRN\u001b[0m  \u001b[97mIgnoring wrong pointing object 7 0 (offset 0)\u001b[0m\n",
      "\u001b[32m[0628 12:09.48 @_utils.py:467]\u001b[0m  \u001b[5m\u001b[35mWRN\u001b[0m  \u001b[97mIgnoring wrong pointing object 10 0 (offset 0)\u001b[0m\n",
      "\u001b[32m[0628 12:09.48 @_utils.py:467]\u001b[0m  \u001b[5m\u001b[35mWRN\u001b[0m  \u001b[97mIgnoring wrong pointing object 12 0 (offset 0)\u001b[0m\n",
      "\u001b[32m[0628 12:09.48 @_utils.py:467]\u001b[0m  \u001b[5m\u001b[35mWRN\u001b[0m  \u001b[97mIgnoring wrong pointing object 23 0 (offset 0)\u001b[0m\n",
      "\u001b[32m[0628 12:09.48 @_utils.py:467]\u001b[0m  \u001b[5m\u001b[35mWRN\u001b[0m  \u001b[97mIgnoring wrong pointing object 34 0 (offset 0)\u001b[0m\n",
      "\u001b[32m[0628 12:09.48 @_utils.py:467]\u001b[0m  \u001b[5m\u001b[35mWRN\u001b[0m  \u001b[97mIgnoring wrong pointing object 7 0 (offset 0)\u001b[0m\n",
      "\u001b[32m[0628 12:09.48 @_utils.py:467]\u001b[0m  \u001b[5m\u001b[35mWRN\u001b[0m  \u001b[97mIgnoring wrong pointing object 10 0 (offset 0)\u001b[0m\n",
      "\u001b[32m[0628 12:09.48 @_utils.py:467]\u001b[0m  \u001b[5m\u001b[35mWRN\u001b[0m  \u001b[97mIgnoring wrong pointing object 12 0 (offset 0)\u001b[0m\n",
      "\u001b[32m[0628 12:09.48 @_utils.py:467]\u001b[0m  \u001b[5m\u001b[35mWRN\u001b[0m  \u001b[97mIgnoring wrong pointing object 23 0 (offset 0)\u001b[0m\n",
      "\u001b[32m[0628 12:09.48 @_utils.py:467]\u001b[0m  \u001b[5m\u001b[35mWRN\u001b[0m  \u001b[97mIgnoring wrong pointing object 34 0 (offset 0)\u001b[0m\n"
     ]
    }
   ],
   "source": [
    "import torch\n",
    "import cv2\n",
    "from pathlib import Path\n",
    "from matplotlib import pyplot as plt\n",
    "from IPython.display import display\n",
    "import deepdoctection as dd\n",
    "import numpy as np\n",
    "import os\n",
    "from IPython.core.display import HTML\n",
    "\n",
    "os.environ['DD_USE_TORCH'] = '1'\n",
    "\n",
    "# Initialiser l'analyseur\n",
    "analyzer = dd.get_dd_analyzer(config_overwrite=[\"LANGUAGE='eng'\"])\n",
    "\n",
    "# Chemin vers le PDF\n",
    "path = \"/Users/alexandreclin/Desktop/test/report.pdf\"\n",
    "\n",
    "# Analyser le document PDF\n",
    "df = analyzer.analyze(path=path)\n",
    "df.reset_state()\n",
    "\n",
    "# Chemin vers les fichiers tessdata\n",
    "os.environ['TESSDATA_PREFIX'] = '/opt/homebrew/Cellar/tesseract/5.4.1/share/tessdata'\n",
    "\n",
    "# Fonction pour dessiner des boîtes sur l'image\n",
    "\n",
    "# Itérer sur chaque page et afficher les boîtes de détection\n",
    "doc = iter(df)"
   ]
  },
  {
   "cell_type": "code",
   "execution_count": 15,
   "metadata": {},
   "outputs": [
    {
     "name": "stderr",
     "output_type": "stream",
     "text": [
      "\u001b[32m[0628 12:09.53 @doctectionpipe.py:84]\u001b[0m  \u001b[32mINF\u001b[0m  \u001b[97mProcessing report_0.pdf\u001b[0m\n",
      "\u001b[32m[0628 12:09.55 @context.py:126]\u001b[0m  \u001b[32mINF\u001b[0m  \u001b[97mImageLayoutService total: 1.5114 sec.\u001b[0m\n",
      "\u001b[32m[0628 12:09.57 @context.py:126]\u001b[0m  \u001b[32mINF\u001b[0m  \u001b[97mSubImageLayoutService total: 1.7918 sec.\u001b[0m\n",
      "\u001b[32m[0628 12:09.58 @context.py:126]\u001b[0m  \u001b[32mINF\u001b[0m  \u001b[97mSubImageLayoutService total: 1.2228 sec.\u001b[0m\n",
      "\u001b[32m[0628 12:09.58 @context.py:126]\u001b[0m  \u001b[32mINF\u001b[0m  \u001b[97mTableSegmentationService total: 0.0102 sec.\u001b[0m\n",
      "\u001b[32m[0628 12:09.58 @context.py:126]\u001b[0m  \u001b[32mINF\u001b[0m  \u001b[97mTableSegmentationRefinementService total: 0.0036 sec.\u001b[0m\n",
      "\u001b[32m[0628 12:09.58 @context.py:126]\u001b[0m  \u001b[32mINF\u001b[0m  \u001b[97mTextExtractionService total: 0.0771 sec.\u001b[0m\n",
      "\u001b[32m[0628 12:09.58 @context.py:126]\u001b[0m  \u001b[32mINF\u001b[0m  \u001b[97mTextExtractionService total: 0.0002 sec.\u001b[0m\n",
      "\u001b[32m[0628 12:09.58 @context.py:126]\u001b[0m  \u001b[32mINF\u001b[0m  \u001b[97mMatchingService total: 0.0013 sec.\u001b[0m\n",
      "\u001b[32m[0628 12:09.58 @context.py:126]\u001b[0m  \u001b[32mINF\u001b[0m  \u001b[97mTextOrderService total: 0.0069 sec.\u001b[0m\n"
     ]
    },
    {
     "name": "stdout",
     "output_type": "stream",
     "text": [
      "[['Disability Category ', '', 'Ballots Completed ', 'Ballots ', '', 'Results ', ''], ['', 'Participants ', '', 'Incomplete/ Terminated ', 'Accuracy ', '', 'Time to complete '], ['Blind ', '5 ', '1 ', '4 ', '34.5%, n=1 ', '', '1199 sec, n=1 '], ['Low Vision ', '5 ', '2 ', '3 ', '98.3% n=2 ', '', '1716 sec, n=3 '], ['', '', '', '', '(97.7%, n=3) ', '', '(1934 sec, n=2) '], ['Dexterity ', '5 ', '4 ', '1 ', '98.3%, n=4 ', '', '1672.1 sec, n=4 '], ['Mobility ', '3 ', '3 ', '0 ', '95.4%, n=3 ', '', '1416 sec, n=3 ']]\n"
     ]
    }
   ],
   "source": [
    "\n",
    "for page in doc:\n",
    "    \n",
    "    image = page.viz()  # Obtenir l'image de la page sous forme de tableau\n",
    "    #image = np.array(image_array)\n",
    "    \n",
    "    # Dessiner les boîtes sur l'image\n",
    "\n",
    "    # Dessiner les boîtes sur l'image\n",
    "    #image_with_boxes = draw_boxes(image, boxes)\n",
    "    \n",
    "    # Afficher l'image avec les boîtes\n",
    "    plt.figure(figsize=(10, 10))\n",
    "    plt.imshow(image)\n",
    "    plt.axis('off')\n",
    "    plt.show()\n",
    "    \n",
    "    if page.tables:\n",
    "        table = page.tables[0]\n",
    "        HTML(table.html)\n",
    "        print(page.tables[0].csv)\n"
   ]
  },
  {
   "cell_type": "code",
   "execution_count": 30,
   "metadata": {},
   "outputs": [],
   "source": []
  }
 ],
 "metadata": {
  "kernelspec": {
   "display_name": "deepdo",
   "language": "python",
   "name": "python3"
  },
  "language_info": {
   "codemirror_mode": {
    "name": "ipython",
    "version": 3
   },
   "file_extension": ".py",
   "mimetype": "text/x-python",
   "name": "python",
   "nbconvert_exporter": "python",
   "pygments_lexer": "ipython3",
   "version": "3.11.5"
  }
 },
 "nbformat": 4,
 "nbformat_minor": 2
}
