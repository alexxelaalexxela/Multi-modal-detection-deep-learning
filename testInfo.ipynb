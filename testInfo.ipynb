{
 "cells": [
  {
   "cell_type": "code",
   "execution_count": 44,
   "metadata": {},
   "outputs": [],
   "source": [
    "from pathlib import Path\n",
    "import deepdoctection as dd"
   ]
  },
  {
   "cell_type": "code",
   "execution_count": 45,
   "metadata": {},
   "outputs": [
    {
     "name": "stdout",
     "output_type": "stream",
     "text": [
      "\u001b[36m╒═════════════════════════════════════════════════════════════════════╕\n",
      "│ name                                                                │\n",
      "╞═════════════════════════════════════════════════════════════════════╡\n",
      "│ layout/model-800000_inf_only.data-00000-of-00001                    │\n",
      "├─────────────────────────────────────────────────────────────────────┤\n",
      "│ cell/model-1800000_inf_only.data-00000-of-00001                     │\n",
      "├─────────────────────────────────────────────────────────────────────┤\n",
      "│ item/model-1620000_inf_only.data-00000-of-00001                     │\n",
      "├─────────────────────────────────────────────────────────────────────┤\n",
      "│ item/model-1620000.data-00000-of-00001                              │\n",
      "├─────────────────────────────────────────────────────────────────────┤\n",
      "│ layout/model-800000.data-00000-of-00001                             │\n",
      "├─────────────────────────────────────────────────────────────────────┤\n",
      "│ cell/model-1800000.data-00000-of-00001                              │\n",
      "├─────────────────────────────────────────────────────────────────────┤\n",
      "│ layout/d2_model_0829999_layout_inf_only.pt                          │\n",
      "├─────────────────────────────────────────────────────────────────────┤\n",
      "│ layout/d2_model_0829999_layout.pth                                  │\n",
      "├─────────────────────────────────────────────────────────────────────┤\n",
      "│ layout/d2_model_0829999_layout_inf_only.ts                          │\n",
      "├─────────────────────────────────────────────────────────────────────┤\n",
      "│ cell/d2_model_1849999_cell_inf_only.pt                              │\n",
      "├─────────────────────────────────────────────────────────────────────┤\n",
      "│ cell/d2_model_1849999_cell_inf_only.ts                              │\n",
      "├─────────────────────────────────────────────────────────────────────┤\n",
      "│ cell/d2_model_1849999_cell.pth                                      │\n",
      "├─────────────────────────────────────────────────────────────────────┤\n",
      "│ item/d2_model_1639999_item.pth                                      │\n",
      "├─────────────────────────────────────────────────────────────────────┤\n",
      "│ item/d2_model_1639999_item_inf_only.pt                              │\n",
      "├─────────────────────────────────────────────────────────────────────┤\n",
      "│ item/d2_model_1639999_item_inf_only.ts                              │\n",
      "├─────────────────────────────────────────────────────────────────────┤\n",
      "│ nielsr/lilt-xlm-roberta-base/pytorch_model.bin                      │\n",
      "├─────────────────────────────────────────────────────────────────────┤\n",
      "│ SCUT-DLVCLab/lilt-infoxlm-base/pytorch_model.bin                    │\n",
      "├─────────────────────────────────────────────────────────────────────┤\n",
      "│ SCUT-DLVCLab/lilt-roberta-en-base/pytorch_model.bin                 │\n",
      "├─────────────────────────────────────────────────────────────────────┤\n",
      "│ microsoft/layoutlm-base-uncased/pytorch_model.bin                   │\n",
      "├─────────────────────────────────────────────────────────────────────┤\n",
      "│ microsoft/layoutlm-large-uncased/pytorch_model.bin                  │\n",
      "├─────────────────────────────────────────────────────────────────────┤\n",
      "│ microsoft/layoutlmv2-base-uncased/pytorch_model.bin                 │\n",
      "├─────────────────────────────────────────────────────────────────────┤\n",
      "│ microsoft/layoutxlm-base/pytorch_model.bin                          │\n",
      "├─────────────────────────────────────────────────────────────────────┤\n",
      "│ microsoft/layoutlmv3-base/pytorch_model.bin                         │\n",
      "├─────────────────────────────────────────────────────────────────────┤\n",
      "│ microsoft/table-transformer-detection/pytorch_model.bin             │\n",
      "├─────────────────────────────────────────────────────────────────────┤\n",
      "│ microsoft/table-transformer-structure-recognition/pytorch_model.bin │\n",
      "├─────────────────────────────────────────────────────────────────────┤\n",
      "│ doctr/db_resnet50/pt/db_resnet50-ac60cadc.pt                        │\n",
      "├─────────────────────────────────────────────────────────────────────┤\n",
      "│ doctr/db_resnet50/tf/db_resnet50-adcafc63.zip                       │\n",
      "├─────────────────────────────────────────────────────────────────────┤\n",
      "│ doctr/crnn_vgg16_bn/pt/crnn_vgg16_bn-9762b0b0.pt                    │\n",
      "├─────────────────────────────────────────────────────────────────────┤\n",
      "│ doctr/crnn_vgg16_bn/tf/crnn_vgg16_bn-76b7f2c6.zip                   │\n",
      "├─────────────────────────────────────────────────────────────────────┤\n",
      "│ FacebookAI/xlm-roberta-base/pytorch_model.bin                       │\n",
      "├─────────────────────────────────────────────────────────────────────┤\n",
      "│ fasttext/lid.176.bin                                                │\n",
      "╘═════════════════════════════════════════════════════════════════════╛\u001b[0m\n"
     ]
    }
   ],
   "source": [
    "dd.print_model_infos(add_description=False,add_config=False,add_categories=False)"
   ]
  },
  {
   "cell_type": "code",
   "execution_count": 46,
   "metadata": {},
   "outputs": [
    {
     "name": "stdout",
     "output_type": "stream",
     "text": [
      "{'__label__en': <Languages.english>, '__label__ru': <Languages.russian>, '__label__de': <Languages.german>, '__label__fr': <Languages.french>, '__label__it': <Languages.italian>, '__label__ja': <Languages.japanese>, '__label__es': <Languages.spanish>, '__label__ceb': <Languages.cebuano>, '__label__tr': <Languages.turkish>, '__label__pt': <Languages.portuguese>, '__label__uk': <Languages.ukrainian>, '__label__eo': <Languages.esperanto>, '__label__pl': <Languages.polish>, '__label__sv': <Languages.swedish>, '__label__nl': <Languages.dutch>, '__label__he': <Languages.hebrew>, '__label__zh': <Languages.chinese>, '__label__hu': <Languages.hungarian>, '__label__ar': <Languages.arabic>, '__label__ca': <Languages.catalan>, '__label__fi': <Languages.finnish>, '__label__cs': <Languages.czech>, '__label__fa': <Languages.persian>, '__label__sr': <Languages.serbian>, '__label__el': <Languages.greek>, '__label__vi': <Languages.vietnamese>, '__label__bg': <Languages.bulgarian>, '__label__ko': <Languages.korean>, '__label__no': <Languages.norwegian>, '__label__mk': <Languages.macedonian>, '__label__ro': <Languages.romanian>, '__label__id': <Languages.indonesian>, '__label__th': <Languages.thai>, '__label__hy': <Languages.armenian>, '__label__da': <Languages.danish>, '__label__ta': <Languages.tamil>, '__label__hi': <Languages.hindi>, '__label__hr': <Languages.croatian>, '__label__sh': <Languages.not_defined>, '__label__be': <Languages.belarusian>, '__label__ka': <Languages.georgian>, '__label__te': <Languages.telugu>, '__label__kk': <Languages.kazakh>, '__label__war': <Languages.waray>, '__label__lt': <Languages.lithuanian>, '__label__gl': <Languages.scottish>, '__label__sk': <Languages.slovak>, '__label__bn': <Languages.benin>, '__label__eu': <Languages.basque>, '__label__sl': <Languages.slovenian>, '__label__kn': <Languages.not_defined>, '__label__ml': <Languages.malayalam>, '__label__mr': <Languages.marathi>, '__label__et': <Languages.estonian>, '__label__az': <Languages.azerbaijani>, '__label__ms': <Languages.not_defined>, '__label__sq': <Languages.albanian>, '__label__la': <Languages.latin>, '__label__bs': <Languages.bosnian>, '__label__nn': <Languages.norwegian_nynorsk>, '__label__ur': <Languages.urdu>, '__label__lv': <Languages.not_defined>, '__label__my': <Languages.not_defined>, '__label__tt': <Languages.not_defined>, '__label__af': <Languages.not_defined>, '__label__oc': <Languages.not_defined>, '__label__nds': <Languages.not_defined>, '__label__ky': <Languages.not_defined>, '__label__ast': <Languages.not_defined>, '__label__tl': <Languages.not_defined>, '__label__is': <Languages.not_defined>, '__label__ia': <Languages.not_defined>, '__label__si': <Languages.not_defined>, '__label__gu': <Languages.not_defined>, '__label__km': <Languages.not_defined>, '__label__br': <Languages.not_defined>, '__label__ba': <Languages.not_defined>, '__label__uz': <Languages.not_defined>, '__label__bo': <Languages.not_defined>, '__label__pa': <Languages.not_defined>, '__label__vo': <Languages.not_defined>, '__label__als': <Languages.not_defined>, '__label__ne': <Languages.not_defined>, '__label__cy': <Languages.not_defined>, '__label__jbo': <Languages.not_defined>, '__label__fy': <Languages.not_defined>, '__label__mn': <Languages.not_defined>, '__label__lb': <Languages.not_defined>, '__label__ce': <Languages.not_defined>, '__label__ug': <Languages.not_defined>, '__label__tg': <Languages.not_defined>, '__label__sco': <Languages.not_defined>, '__label__sa': <Languages.not_defined>, '__label__cv': <Languages.not_defined>, '__label__jv': <Languages.not_defined>, '__label__min': <Languages.not_defined>, '__label__io': <Languages.not_defined>, '__label__or': <Languages.not_defined>, '__label__as': <Languages.not_defined>, '__label__new': <Languages.not_defined>, '__label__ga': <Languages.not_defined>, '__label__mg': <Languages.not_defined>, '__label__an': <Languages.not_defined>, '__label__ckb': <Languages.not_defined>, '__label__sw': <Languages.not_defined>, '__label__bar': <Languages.not_defined>, '__label__lmo': <Languages.not_defined>, '__label__yi': <Languages.not_defined>, '__label__arz': <Languages.not_defined>, '__label__mhr': <Languages.not_defined>, '__label__azb': <Languages.not_defined>, '__label__sah': <Languages.not_defined>, '__label__pnb': <Languages.not_defined>, '__label__su': <Languages.not_defined>, '__label__bpy': <Languages.not_defined>, '__label__pms': <Languages.not_defined>, '__label__ilo': <Languages.not_defined>, '__label__wuu': <Languages.not_defined>, '__label__ku': <Languages.not_defined>, '__label__ps': <Languages.not_defined>, '__label__ie': <Languages.not_defined>, '__label__xmf': <Languages.not_defined>, '__label__yue': <Languages.not_defined>, '__label__gom': <Languages.not_defined>, '__label__li': <Languages.not_defined>, '__label__mwl': <Languages.not_defined>, '__label__kw': <Languages.not_defined>, '__label__sd': <Languages.not_defined>, '__label__hsb': <Languages.not_defined>, '__label__scn': <Languages.not_defined>, '__label__gd': <Languages.not_defined>, '__label__pam': <Languages.not_defined>, '__label__bh': <Languages.not_defined>, '__label__mai': <Languages.not_defined>, '__label__vec': <Languages.not_defined>, '__label__mt': <Languages.not_defined>, '__label__dv': <Languages.not_defined>, '__label__wa': <Languages.not_defined>, '__label__mzn': <Languages.not_defined>, '__label__am': <Languages.not_defined>, '__label__qu': <Languages.not_defined>, '__label__eml': <Languages.not_defined>, '__label__cbk': <Languages.not_defined>, '__label__tk': <Languages.not_defined>, '__label__rm': <Languages.not_defined>, '__label__os': <Languages.not_defined>, '__label__vls': <Languages.not_defined>, '__label__yo': <Languages.not_defined>, '__label__lo': <Languages.not_defined>, '__label__lez': <Languages.not_defined>, '__label__so': <Languages.not_defined>, '__label__myv': <Languages.not_defined>, '__label__diq': <Languages.not_defined>, '__label__mrj': <Languages.not_defined>, '__label__dsb': <Languages.not_defined>, '__label__frr': <Languages.not_defined>, '__label__ht': <Languages.not_defined>, '__label__gn': <Languages.not_defined>, '__label__bxr': <Languages.not_defined>, '__label__kv': <Languages.not_defined>, '__label__sc': <Languages.not_defined>, '__label__nah': <Languages.not_defined>, '__label__krc': <Languages.not_defined>, '__label__bcl': <Languages.not_defined>, '__label__nap': <Languages.not_defined>, '__label__gv': <Languages.not_defined>, '__label__av': <Languages.not_defined>, '__label__rue': <Languages.not_defined>, '__label__xal': <Languages.not_defined>, '__label__pfl': <Languages.not_defined>, '__label__dty': <Languages.not_defined>, '__label__hif': <Languages.not_defined>, '__label__co': <Languages.not_defined>, '__label__lrc': <Languages.not_defined>, '__label__vep': <Languages.not_defined>, '__label__tyv': <Languages.not_defined>}\n"
     ]
    }
   ],
   "source": [
    "categories=dd.ModelCatalog.get_profile(\"fasttext/lid.176.bin\").categories\n",
    "\n",
    "print(categories)"
   ]
  },
  {
   "cell_type": "code",
   "execution_count": 47,
   "metadata": {},
   "outputs": [
    {
     "data": {
      "text/plain": [
       "'FasttextLangDetector'"
      ]
     },
     "execution_count": 47,
     "metadata": {},
     "output_type": "execute_result"
    }
   ],
   "source": [
    "dd.ModelCatalog.get_profile(\"fasttext/lid.176.bin\").model_wrapper"
   ]
  },
  {
   "cell_type": "code",
   "execution_count": 48,
   "metadata": {},
   "outputs": [
    {
     "name": "stderr",
     "output_type": "stream",
     "text": [
      "\u001b[32m[0711 11:56.14 @fs.py:98]\u001b[0m  \u001b[32mINF\u001b[0m  \u001b[97mFile lid.176.bin exists! Skip download.\u001b[0m\n"
     ]
    }
   ],
   "source": [
    "path_weights=dd.ModelDownloadManager.maybe_download_weights_and_configs(\"fasttext/lid.176.bin\")"
   ]
  },
  {
   "cell_type": "code",
   "execution_count": 49,
   "metadata": {},
   "outputs": [],
   "source": [
    "fast_text = dd.FasttextLangDetector(path_weights, categories)"
   ]
  },
  {
   "cell_type": "code",
   "execution_count": 50,
   "metadata": {},
   "outputs": [],
   "source": [
    "tess_ocr_config_path = dd.get_configs_dir_path() / \"dd/conf_tesseract.yaml\"  # This file will be in your .cache if you ran the analyzer before. \n",
    "# Otherwise make sure to copy the file from 'configs/conf_tesseract.yaml'\n",
    "\n",
    "tesseract_ocr = dd.TesseractOcrDetector(tess_ocr_config_path.as_posix())"
   ]
  },
  {
   "cell_type": "code",
   "execution_count": 51,
   "metadata": {},
   "outputs": [
    {
     "data": {
      "text/plain": [
       "{'ImageCroppingService': deepdoctection.pipe.concurrency.MultiThreadPipelineComponent,\n",
       " 'MatchingService': deepdoctection.pipe.common.MatchingService,\n",
       " 'PageParsingService': deepdoctection.pipe.common.PageParsingService,\n",
       " 'AnnotationNmsService': deepdoctection.pipe.common.AnnotationNmsService,\n",
       " 'ImageParsingService': deepdoctection.pipe.common.ImageParsingService,\n",
       " 'LanguageDetectionService': deepdoctection.pipe.language.LanguageDetectionService,\n",
       " 'ImageLayoutService': deepdoctection.pipe.layout.ImageLayoutService,\n",
       " 'LMTokenClassifierService': deepdoctection.pipe.lm.LMTokenClassifierService,\n",
       " 'LMSequenceClassifierService': deepdoctection.pipe.lm.LMSequenceClassifierService,\n",
       " 'TextOrderService': deepdoctection.pipe.order.TextOrderService,\n",
       " 'TableSegmentationRefinementService': deepdoctection.pipe.refine.TableSegmentationRefinementService,\n",
       " 'TableSegmentationService': deepdoctection.pipe.segment.TableSegmentationService,\n",
       " 'SubImageLayoutService': deepdoctection.pipe.sub_layout.SubImageLayoutService,\n",
       " 'TextExtractionService': deepdoctection.pipe.text.TextExtractionService,\n",
       " 'SimpleTransformService': deepdoctection.pipe.transform.SimpleTransformService}"
      ]
     },
     "execution_count": 51,
     "metadata": {},
     "output_type": "execute_result"
    }
   ],
   "source": [
    "dd.pipeline_component_registry.get_all()"
   ]
  },
  {
   "cell_type": "code",
   "execution_count": 52,
   "metadata": {},
   "outputs": [],
   "source": [
    "lang_detect_comp = dd.LanguageDetectionService(fast_text,text_detector=tesseract_ocr)"
   ]
  },
  {
   "cell_type": "code",
   "execution_count": 53,
   "metadata": {},
   "outputs": [],
   "source": [
    "pipe_comp_list = [lang_detect_comp]\n",
    "pipe = dd.DoctectionPipe(pipeline_component_list=pipe_comp_list)"
   ]
  },
  {
   "cell_type": "code",
   "execution_count": 54,
   "metadata": {},
   "outputs": [],
   "source": [
    "image_path = \"/Users/alexandreclin/Desktop/capture\""
   ]
  },
  {
   "cell_type": "code",
   "execution_count": 56,
   "metadata": {},
   "outputs": [
    {
     "name": "stderr",
     "output_type": "stream",
     "text": [
      "|          |1/?[00:00<00:00,924.87it/s]\n",
      "\u001b[32m[0711 11:56.51 @doctectionpipe.py:84]\u001b[0m  \u001b[32mINF\u001b[0m  \u001b[97mProcessing Capture.png\u001b[0m\n"
     ]
    },
    {
     "ename": "ValueError",
     "evalue": "Unable to avoid copy while creating an array as requested.\nIf using `np.array(obj, copy=False)` replace it with `np.asarray(obj)` to allow a copy when needed (no behavior change in NumPy 1.x).\nFor more details, see https://numpy.org/devdocs/numpy_2_0_migration_guide.html#adapting-to-changes-in-the-copy-keyword.",
     "output_type": "error",
     "traceback": [
      "\u001b[0;31m---------------------------------------------------------------------------\u001b[0m",
      "\u001b[0;31mValueError\u001b[0m                                Traceback (most recent call last)",
      "Cell \u001b[0;32mIn[56], line 4\u001b[0m\n\u001b[1;32m      2\u001b[0m df\u001b[38;5;241m.\u001b[39mreset_state()\n\u001b[1;32m      3\u001b[0m mid \u001b[38;5;241m=\u001b[39m \u001b[38;5;28miter\u001b[39m(df)\n\u001b[0;32m----> 4\u001b[0m dp \u001b[38;5;241m=\u001b[39m \u001b[38;5;28;43mnext\u001b[39;49m\u001b[43m(\u001b[49m\u001b[43mmid\u001b[49m\u001b[43m)\u001b[49m\n\u001b[1;32m      5\u001b[0m dp\u001b[38;5;241m.\u001b[39mlanguage\n",
      "File \u001b[0;32m~/Desktop/Infosys Inde/test2/deepdo/lib/python3.11/site-packages/deepdoctection/dataflow/common.py:109\u001b[0m, in \u001b[0;36mMapData.__iter__\u001b[0;34m(self)\u001b[0m\n\u001b[1;32m    108\u001b[0m \u001b[38;5;28;01mdef\u001b[39;00m \u001b[38;5;21m__iter__\u001b[39m(\u001b[38;5;28mself\u001b[39m) \u001b[38;5;241m-\u001b[39m\u001b[38;5;241m>\u001b[39m Iterator[Any]:\n\u001b[0;32m--> 109\u001b[0m \u001b[43m    \u001b[49m\u001b[38;5;28;43;01mfor\u001b[39;49;00m\u001b[43m \u001b[49m\u001b[43mdp\u001b[49m\u001b[43m \u001b[49m\u001b[38;5;129;43;01min\u001b[39;49;00m\u001b[43m \u001b[49m\u001b[38;5;28;43mself\u001b[39;49m\u001b[38;5;241;43m.\u001b[39;49m\u001b[43mdf\u001b[49m\u001b[43m:\u001b[49m\n\u001b[1;32m    110\u001b[0m \u001b[43m        \u001b[49m\u001b[43mret\u001b[49m\u001b[43m \u001b[49m\u001b[38;5;241;43m=\u001b[39;49m\u001b[43m \u001b[49m\u001b[38;5;28;43mself\u001b[39;49m\u001b[38;5;241;43m.\u001b[39;49m\u001b[43mfunc\u001b[49m\u001b[43m(\u001b[49m\u001b[43mcopy\u001b[49m\u001b[43m(\u001b[49m\u001b[43mdp\u001b[49m\u001b[43m)\u001b[49m\u001b[43m)\u001b[49m\u001b[43m  \u001b[49m\u001b[38;5;66;43;03m# shallow copy the list\u001b[39;49;00m\n\u001b[1;32m    111\u001b[0m \u001b[43m        \u001b[49m\u001b[38;5;28;43;01mif\u001b[39;49;00m\u001b[43m \u001b[49m\u001b[43mret\u001b[49m\u001b[43m \u001b[49m\u001b[38;5;129;43;01mis\u001b[39;49;00m\u001b[43m \u001b[49m\u001b[38;5;129;43;01mnot\u001b[39;49;00m\u001b[43m \u001b[49m\u001b[38;5;28;43;01mNone\u001b[39;49;00m\u001b[43m:\u001b[49m\n",
      "File \u001b[0;32m~/Desktop/Infosys Inde/test2/deepdo/lib/python3.11/site-packages/deepdoctection/dataflow/common.py:110\u001b[0m, in \u001b[0;36mMapData.__iter__\u001b[0;34m(self)\u001b[0m\n\u001b[1;32m    108\u001b[0m \u001b[38;5;28;01mdef\u001b[39;00m \u001b[38;5;21m__iter__\u001b[39m(\u001b[38;5;28mself\u001b[39m) \u001b[38;5;241m-\u001b[39m\u001b[38;5;241m>\u001b[39m Iterator[Any]:\n\u001b[1;32m    109\u001b[0m     \u001b[38;5;28;01mfor\u001b[39;00m dp \u001b[38;5;129;01min\u001b[39;00m \u001b[38;5;28mself\u001b[39m\u001b[38;5;241m.\u001b[39mdf:\n\u001b[0;32m--> 110\u001b[0m         ret \u001b[38;5;241m=\u001b[39m \u001b[38;5;28;43mself\u001b[39;49m\u001b[38;5;241;43m.\u001b[39;49m\u001b[43mfunc\u001b[49m\u001b[43m(\u001b[49m\u001b[43mcopy\u001b[49m\u001b[43m(\u001b[49m\u001b[43mdp\u001b[49m\u001b[43m)\u001b[49m\u001b[43m)\u001b[49m  \u001b[38;5;66;03m# shallow copy the list\u001b[39;00m\n\u001b[1;32m    111\u001b[0m         \u001b[38;5;28;01mif\u001b[39;00m ret \u001b[38;5;129;01mis\u001b[39;00m \u001b[38;5;129;01mnot\u001b[39;00m \u001b[38;5;28;01mNone\u001b[39;00m:\n\u001b[1;32m    112\u001b[0m             \u001b[38;5;28;01myield\u001b[39;00m ret\n",
      "File \u001b[0;32m~/Desktop/Infosys Inde/test2/deepdo/lib/python3.11/site-packages/deepdoctection/pipe/base.py:95\u001b[0m, in \u001b[0;36mPipelineComponent.pass_datapoint\u001b[0;34m(self, dp)\u001b[0m\n\u001b[1;32m     93\u001b[0m     \u001b[38;5;28;01mwith\u001b[39;00m timed_operation(\u001b[38;5;28mself\u001b[39m\u001b[38;5;241m.\u001b[39m\u001b[38;5;18m__class__\u001b[39m\u001b[38;5;241m.\u001b[39m\u001b[38;5;18m__name__\u001b[39m):\n\u001b[1;32m     94\u001b[0m         \u001b[38;5;28mself\u001b[39m\u001b[38;5;241m.\u001b[39mdp_manager\u001b[38;5;241m.\u001b[39mdatapoint \u001b[38;5;241m=\u001b[39m dp\n\u001b[0;32m---> 95\u001b[0m         \u001b[38;5;28;43mself\u001b[39;49m\u001b[38;5;241;43m.\u001b[39;49m\u001b[43mserve\u001b[49m\u001b[43m(\u001b[49m\u001b[43mdp\u001b[49m\u001b[43m)\u001b[49m\n\u001b[1;32m     96\u001b[0m \u001b[38;5;28;01melse\u001b[39;00m:\n\u001b[1;32m     97\u001b[0m     \u001b[38;5;28mself\u001b[39m\u001b[38;5;241m.\u001b[39mdp_manager\u001b[38;5;241m.\u001b[39mdatapoint \u001b[38;5;241m=\u001b[39m dp\n",
      "File \u001b[0;32m~/Desktop/Infosys Inde/test2/deepdo/lib/python3.11/site-packages/deepdoctection/pipe/language.py:94\u001b[0m, in \u001b[0;36mLanguageDetectionService.serve\u001b[0;34m(self, dp)\u001b[0m\n\u001b[1;32m     92\u001b[0m     \u001b[38;5;66;03m# this is a concatenation of all detection result. No reading order\u001b[39;00m\n\u001b[1;32m     93\u001b[0m     text \u001b[38;5;241m=\u001b[39m \u001b[38;5;124m\"\u001b[39m\u001b[38;5;124m \u001b[39m\u001b[38;5;124m\"\u001b[39m\u001b[38;5;241m.\u001b[39mjoin([result\u001b[38;5;241m.\u001b[39mtext \u001b[38;5;28;01mfor\u001b[39;00m result \u001b[38;5;129;01min\u001b[39;00m detect_result_list \u001b[38;5;28;01mif\u001b[39;00m result\u001b[38;5;241m.\u001b[39mtext \u001b[38;5;129;01mis\u001b[39;00m \u001b[38;5;129;01mnot\u001b[39;00m \u001b[38;5;28;01mNone\u001b[39;00m])\n\u001b[0;32m---> 94\u001b[0m predict_result \u001b[38;5;241m=\u001b[39m \u001b[38;5;28;43mself\u001b[39;49m\u001b[38;5;241;43m.\u001b[39;49m\u001b[43mpredictor\u001b[49m\u001b[38;5;241;43m.\u001b[39;49m\u001b[43mpredict\u001b[49m\u001b[43m(\u001b[49m\u001b[43mtext\u001b[49m\u001b[43m)\u001b[49m\n\u001b[1;32m     95\u001b[0m \u001b[38;5;28mself\u001b[39m\u001b[38;5;241m.\u001b[39mdp_manager\u001b[38;5;241m.\u001b[39mset_summary_annotation(\n\u001b[1;32m     96\u001b[0m     PageType\u001b[38;5;241m.\u001b[39mlanguage, PageType\u001b[38;5;241m.\u001b[39mlanguage, \u001b[38;5;241m1\u001b[39m, predict_result\u001b[38;5;241m.\u001b[39mtext, predict_result\u001b[38;5;241m.\u001b[39mscore\n\u001b[1;32m     97\u001b[0m )\n",
      "File \u001b[0;32m~/Desktop/Infosys Inde/test2/deepdo/lib/python3.11/site-packages/deepdoctection/extern/fastlang.py:99\u001b[0m, in \u001b[0;36mFasttextLangDetector.predict\u001b[0;34m(self, text_string)\u001b[0m\n\u001b[1;32m     98\u001b[0m \u001b[38;5;28;01mdef\u001b[39;00m \u001b[38;5;21mpredict\u001b[39m(\u001b[38;5;28mself\u001b[39m, text_string: \u001b[38;5;28mstr\u001b[39m) \u001b[38;5;241m-\u001b[39m\u001b[38;5;241m>\u001b[39m DetectionResult:\n\u001b[0;32m---> 99\u001b[0m     output \u001b[38;5;241m=\u001b[39m \u001b[38;5;28;43mself\u001b[39;49m\u001b[38;5;241;43m.\u001b[39;49m\u001b[43mmodel\u001b[49m\u001b[38;5;241;43m.\u001b[39;49m\u001b[43mpredict\u001b[49m\u001b[43m(\u001b[49m\u001b[43mtext_string\u001b[49m\u001b[43m)\u001b[49m\n\u001b[1;32m    100\u001b[0m     \u001b[38;5;28;01mreturn\u001b[39;00m \u001b[38;5;28mself\u001b[39m\u001b[38;5;241m.\u001b[39moutput_to_detection_result(output)\n",
      "File \u001b[0;32m~/Desktop/Infosys Inde/test2/deepdo/lib/python3.11/site-packages/fasttext/FastText.py:239\u001b[0m, in \u001b[0;36m_FastText.predict\u001b[0;34m(self, text, k, threshold, on_unicode_error)\u001b[0m\n\u001b[1;32m    236\u001b[0m \u001b[38;5;28;01melse\u001b[39;00m:\n\u001b[1;32m    237\u001b[0m     probs, labels \u001b[38;5;241m=\u001b[39m ([], ())\n\u001b[0;32m--> 239\u001b[0m \u001b[38;5;28;01mreturn\u001b[39;00m labels, \u001b[43mnp\u001b[49m\u001b[38;5;241;43m.\u001b[39;49m\u001b[43marray\u001b[49m\u001b[43m(\u001b[49m\u001b[43mprobs\u001b[49m\u001b[43m,\u001b[49m\u001b[43m \u001b[49m\u001b[43mcopy\u001b[49m\u001b[38;5;241;43m=\u001b[39;49m\u001b[38;5;28;43;01mFalse\u001b[39;49;00m\u001b[43m)\u001b[49m\n",
      "\u001b[0;31mValueError\u001b[0m: Unable to avoid copy while creating an array as requested.\nIf using `np.array(obj, copy=False)` replace it with `np.asarray(obj)` to allow a copy when needed (no behavior change in NumPy 1.x).\nFor more details, see https://numpy.org/devdocs/numpy_2_0_migration_guide.html#adapting-to-changes-in-the-copy-keyword."
     ]
    }
   ],
   "source": [
    "df = pipe.analyze(path=image_path)\n",
    "df.reset_state()\n",
    "mid = iter(df)\n",
    "dp = next(mid)\n",
    "dp.language"
   ]
  }
 ],
 "metadata": {
  "kernelspec": {
   "display_name": "deepdo",
   "language": "python",
   "name": "python3"
  },
  "language_info": {
   "codemirror_mode": {
    "name": "ipython",
    "version": 3
   },
   "file_extension": ".py",
   "mimetype": "text/x-python",
   "name": "python",
   "nbconvert_exporter": "python",
   "pygments_lexer": "ipython3",
   "version": "3.11.5"
  }
 },
 "nbformat": 4,
 "nbformat_minor": 2
}
