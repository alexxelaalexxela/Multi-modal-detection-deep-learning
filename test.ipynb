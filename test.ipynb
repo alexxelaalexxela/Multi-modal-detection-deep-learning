{
 "cells": [
  {
   "cell_type": "code",
   "execution_count": 1,
   "metadata": {},
   "outputs": [
    {
     "name": "stderr",
     "output_type": "stream",
     "text": [
      "/Users/alexandreclin/Desktop/Infosys Inde/test2/deepdo/lib/python3.11/site-packages/tqdm/auto.py:22: TqdmWarning: IProgress not found. Please update jupyter and ipywidgets. See https://ipywidgets.readthedocs.io/en/stable/user_install.html\n",
      "  from .autonotebook import tqdm as notebook_tqdm\n",
      "\u001b[32m[0705 14:46.09 @dd.py:459]\u001b[0m  \u001b[32mINF\u001b[0m  \u001b[97mConfig: \n",
      " {'DEVICE': device(type='mps'),\n",
      " 'LANGUAGE': 'eng',\n",
      " 'LAYOUT_NMS_PAIRS': {'COMBINATIONS': None, 'PRIORITY': None, 'THRESHOLDS': None},\n",
      " 'LIB': 'PT',\n",
      " 'OCR': {'CONFIG': {'TESSERACT': 'dd/conf_tesseract.yaml'},\n",
      "         'USE_DOCTR': False,\n",
      "         'USE_TESSERACT': True,\n",
      "         'USE_TEXTRACT': False,\n",
      "         'WEIGHTS': {'DOCTR_RECOGNITION': {'PT': 'doctr/crnn_vgg16_bn/pt/crnn_vgg16_bn-9762b0b0.pt',\n",
      "                                           'TF': 'doctr/crnn_vgg16_bn/tf/crnn_vgg16_bn-76b7f2c6.zip'},\n",
      "                     'DOCTR_WORD': {'PT': 'doctr/db_resnet50/pt/db_resnet50-ac60cadc.pt',\n",
      "                                    'TF': 'doctr/db_resnet50/tf/db_resnet50-adcafc63.zip'}}},\n",
      " 'PDF_MINER': {'X_TOLERANCE': 3, 'Y_TOLERANCE': 3},\n",
      " 'PT': {'CELL': {'FILTER': None,\n",
      "                 'WEIGHTS': 'cell/d2_model_1849999_cell_inf_only.pt',\n",
      "                 'WEIGHTS_TS': 'cell/d2_model_1849999_cell_inf_only.ts'},\n",
      "        'ITEM': {'FILTER': None,\n",
      "                 'PAD': {'BOTTOM': 60, 'LEFT': 60, 'RIGHT': 60, 'TOP': 60},\n",
      "                 'WEIGHTS': 'item/d2_model_1639999_item_inf_only.pt',\n",
      "                 'WEIGHTS_TS': 'item/d2_model_1639999_item_inf_only.ts'},\n",
      "        'LAYOUT': {'FILTER': None,\n",
      "                   'PAD': {'BOTTOM': 60, 'LEFT': 60, 'RIGHT': 60, 'TOP': 60},\n",
      "                   'WEIGHTS': 'layout/d2_model_0829999_layout_inf_only.pt',\n",
      "                   'WEIGHTS_TS': 'layout/d2_model_0829999_layout_inf_only.ts'}},\n",
      " 'SEGMENTATION': {'ASSIGNMENT_RULE': 'ioa',\n",
      "                  'CELL_CATEGORY_ID': 12,\n",
      "                  'FULL_TABLE_TILING': True,\n",
      "                  'REMOVE_IOU_THRESHOLD_COLS': 0.001,\n",
      "                  'REMOVE_IOU_THRESHOLD_ROWS': 0.001,\n",
      "                  'STRETCH_RULE': 'equal',\n",
      "                  'THRESHOLD_COLS': 0.4,\n",
      "                  'THRESHOLD_ROWS': 0.4},\n",
      " 'TEXT_ORDERING': {'BROKEN_LINE_TOLERANCE': 0.003,\n",
      "                   'FLOATING_TEXT_BLOCK_CATEGORIES': ['title', 'text', 'list'],\n",
      "                   'HEIGHT_TOLERANCE': 2.0,\n",
      "                   'INCLUDE_RESIDUAL_TEXT_CONTAINER': False,\n",
      "                   'PARAGRAPH_BREAK': 0.035,\n",
      "                   'STARTING_POINT_TOLERANCE': 0.005,\n",
      "                   'TEXT_BLOCK_CATEGORIES': ['title', 'text', 'list', 'cell', 'column_header',\n",
      "                                             'projected_row_header', 'spanning', 'row_header']},\n",
      " 'TF': {'CELL': {'FILTER': None, 'WEIGHTS': 'cell/model-1800000_inf_only.data-00000-of-00001'},\n",
      "        'ITEM': {'FILTER': None, 'WEIGHTS': 'item/model-1620000_inf_only.data-00000-of-00001'},\n",
      "        'LAYOUT': {'FILTER': None, 'WEIGHTS': 'layout/model-800000_inf_only.data-00000-of-00001'}},\n",
      " 'USE_LAYOUT': True,\n",
      " 'USE_OCR': True,\n",
      " 'USE_PDF_MINER': True,\n",
      " 'USE_TABLE_REFINEMENT': True,\n",
      " 'USE_TABLE_SEGMENTATION': True,\n",
      " 'WORD_MATCHING': {'MAX_PARENT_ONLY': True,\n",
      "                   'PARENTAL_CATEGORIES': ['text', 'title', 'list', 'cell', 'column_header',\n",
      "                                           'projected_row_header', 'spanning', 'row_header'],\n",
      "                   'RULE': 'ioa',\n",
      "                   'THRESHOLD': 0.6}}\u001b[0m\n",
      "\u001b[32m[0705 14:46.10 @_utils.py:467]\u001b[0m  \u001b[5m\u001b[35mWRN\u001b[0m  \u001b[97mIgnoring wrong pointing object 7 0 (offset 0)\u001b[0m\n",
      "\u001b[32m[0705 14:46.10 @_utils.py:467]\u001b[0m  \u001b[5m\u001b[35mWRN\u001b[0m  \u001b[97mIgnoring wrong pointing object 10 0 (offset 0)\u001b[0m\n",
      "\u001b[32m[0705 14:46.10 @_utils.py:467]\u001b[0m  \u001b[5m\u001b[35mWRN\u001b[0m  \u001b[97mIgnoring wrong pointing object 12 0 (offset 0)\u001b[0m\n",
      "\u001b[32m[0705 14:46.10 @_utils.py:467]\u001b[0m  \u001b[5m\u001b[35mWRN\u001b[0m  \u001b[97mIgnoring wrong pointing object 23 0 (offset 0)\u001b[0m\n",
      "\u001b[32m[0705 14:46.10 @_utils.py:467]\u001b[0m  \u001b[5m\u001b[35mWRN\u001b[0m  \u001b[97mIgnoring wrong pointing object 34 0 (offset 0)\u001b[0m\n",
      "\u001b[32m[0705 14:46.10 @_utils.py:467]\u001b[0m  \u001b[5m\u001b[35mWRN\u001b[0m  \u001b[97mIgnoring wrong pointing object 7 0 (offset 0)\u001b[0m\n",
      "\u001b[32m[0705 14:46.10 @_utils.py:467]\u001b[0m  \u001b[5m\u001b[35mWRN\u001b[0m  \u001b[97mIgnoring wrong pointing object 10 0 (offset 0)\u001b[0m\n",
      "\u001b[32m[0705 14:46.10 @_utils.py:467]\u001b[0m  \u001b[5m\u001b[35mWRN\u001b[0m  \u001b[97mIgnoring wrong pointing object 12 0 (offset 0)\u001b[0m\n",
      "\u001b[32m[0705 14:46.10 @_utils.py:467]\u001b[0m  \u001b[5m\u001b[35mWRN\u001b[0m  \u001b[97mIgnoring wrong pointing object 23 0 (offset 0)\u001b[0m\n",
      "\u001b[32m[0705 14:46.10 @_utils.py:467]\u001b[0m  \u001b[5m\u001b[35mWRN\u001b[0m  \u001b[97mIgnoring wrong pointing object 34 0 (offset 0)\u001b[0m\n",
      "\u001b[32m[0705 14:46.10 @doctectionpipe.py:84]\u001b[0m  \u001b[32mINF\u001b[0m  \u001b[97mProcessing report_0.pdf\u001b[0m\n",
      "/Users/alexandreclin/Desktop/Infosys Inde/test2/deepdo/lib/python3.11/site-packages/torch/nn/modules/module.py:1541: UserWarning: torch.meshgrid: in an upcoming release, it will be required to pass the indexing argument. (Triggered internally at /Users/runner/work/pytorch/pytorch/pytorch/aten/src/ATen/native/TensorShape.cpp:3588.)\n",
      "  return forward_call(*args, **kwargs)\n",
      "\u001b[32m[0705 14:46.12 @context.py:126]\u001b[0m  \u001b[32mINF\u001b[0m  \u001b[97mImageLayoutService total: 1.5838 sec.\u001b[0m\n",
      "\u001b[32m[0705 14:46.14 @context.py:126]\u001b[0m  \u001b[32mINF\u001b[0m  \u001b[97mSubImageLayoutService total: 1.6741 sec.\u001b[0m\n",
      "\u001b[32m[0705 14:46.15 @context.py:126]\u001b[0m  \u001b[32mINF\u001b[0m  \u001b[97mSubImageLayoutService total: 1.2147 sec.\u001b[0m\n",
      "\u001b[32m[0705 14:46.15 @context.py:126]\u001b[0m  \u001b[32mINF\u001b[0m  \u001b[97mTableSegmentationService total: 0.0074 sec.\u001b[0m\n",
      "\u001b[32m[0705 14:46.15 @context.py:126]\u001b[0m  \u001b[32mINF\u001b[0m  \u001b[97mTableSegmentationRefinementService total: 0.0016 sec.\u001b[0m\n",
      "\u001b[32m[0705 14:46.15 @context.py:126]\u001b[0m  \u001b[32mINF\u001b[0m  \u001b[97mTextExtractionService total: 0.0238 sec.\u001b[0m\n",
      "\u001b[32m[0705 14:46.15 @context.py:126]\u001b[0m  \u001b[32mINF\u001b[0m  \u001b[97mTextExtractionService total: 0.0 sec.\u001b[0m\n",
      "\u001b[32m[0705 14:46.15 @context.py:126]\u001b[0m  \u001b[32mINF\u001b[0m  \u001b[97mMatchingService total: 0.0009 sec.\u001b[0m\n",
      "\u001b[32m[0705 14:46.15 @context.py:126]\u001b[0m  \u001b[32mINF\u001b[0m  \u001b[97mTextOrderService total: 0.0022 sec.\u001b[0m\n"
     ]
    },
    {
     "data": {
      "text/plain": [
       "deepdoctection.datapoint.view.Page"
      ]
     },
     "execution_count": 1,
     "metadata": {},
     "output_type": "execute_result"
    }
   ],
   "source": [
    "import torch\n",
    "import cv2\n",
    "from pathlib import Path\n",
    "from matplotlib import pyplot as plt\n",
    "from IPython.core.display import HTML\n",
    "\n",
    "import deepdoctection as dd\n",
    "\n",
    "\n",
    "import os\n",
    "\n",
    "os.environ['DD_USE_TORCH'] = '1'\n",
    "\n",
    "\n",
    "analyzer = dd.get_dd_analyzer(config_overwrite=[\"LANGUAGE='eng'\"])\n",
    "\n",
    "path = \"/Users/alexandreclin/Desktop/test/report.pdf\"\n",
    "\n",
    "df = analyzer.analyze(path=path)\n",
    "# This method must be called just before starting the iteration. It is part of the API.\n",
    "df.reset_state()\n",
    "\n",
    "os.environ['TESSDATA_PREFIX'] = '/opt/homebrew/Cellar/tesseract/5.4.1/share/tessdata'\n",
    "\n",
    "doc = iter(df)\n",
    "page = next(doc)\n",
    "type(page)\n",
    "\n"
   ]
  },
  {
   "cell_type": "code",
   "execution_count": 2,
   "metadata": {},
   "outputs": [
    {
     "data": {
      "text/plain": [
       "{<PageType.angle>,\n",
       " 'chunks',\n",
       " 'document_id',\n",
       " <PageType.document_type>,\n",
       " 'file_name',\n",
       " <PageType.language>,\n",
       " 'layouts',\n",
       " 'location',\n",
       " 'page_number',\n",
       " 'tables',\n",
       " 'text',\n",
       " 'words'}"
      ]
     },
     "execution_count": 2,
     "metadata": {},
     "output_type": "execute_result"
    }
   ],
   "source": [
    "page.get_attribute_names()"
   ]
  },
  {
   "cell_type": "code",
   "execution_count": 3,
   "metadata": {},
   "outputs": [],
   "source": [
    "for layout in page.layouts:\n",
    "    if layout.category_name==\"title\":\n",
    "        print(f\"Title: {layout.text}\")"
   ]
  },
  {
   "cell_type": "code",
   "execution_count": 4,
   "metadata": {},
   "outputs": [
    {
     "data": {
      "text/plain": [
       "'This is an example of a data table.'"
      ]
     },
     "execution_count": 4,
     "metadata": {},
     "output_type": "execute_result"
    }
   ],
   "source": [
    "\n",
    "page.text"
   ]
  },
  {
   "cell_type": "code",
   "execution_count": 5,
   "metadata": {},
   "outputs": [
    {
     "data": {
      "image/png": "[encoded data removed]",
      "text/plain": [
       "<Figure size 1000x500 with 1 Axes>"
      ]
     },
     "metadata": {},
     "output_type": "display_data"
    },
    {
     "name": "stdout",
     "output_type": "stream",
     "text": [
      "Disability Category   Ballots Completed  Ballots   Results   \n",
      "  Participants   Incomplete/ Terminated  Accuracy   Time to complete  \n",
      " Blind  5  1  4  34.5%, n=1   1199 sec, n=1  \n",
      " Low Vision  5  2  3  98.3% n=2   1716 sec, n=3  \n",
      "     (97.7%, n=3)   (1934 sec, n=2)  \n",
      " Dexterity  5  4  1  98.3%, n=4   1672.1 sec, n=4  \n",
      " Mobility  3  3  0  95.4%, n=3   1416 sec, n=3  \n",
      "\n",
      "[['Disability Category ', '', 'Ballots Completed ', 'Ballots ', '', 'Results ', ''], ['', 'Participants ', '', 'Incomplete/ Terminated ', 'Accuracy ', '', 'Time to complete '], ['Blind ', '5 ', '1 ', '4 ', '34.5%, n=1 ', '', '1199 sec, n=1 '], ['Low Vision ', '5 ', '2 ', '3 ', '98.3% n=2 ', '', '1716 sec, n=3 '], ['', '', '', '', '(97.7%, n=3) ', '', '(1934 sec, n=2) '], ['Dexterity ', '5 ', '4 ', '1 ', '98.3%, n=4 ', '', '1672.1 sec, n=4 '], ['Mobility ', '3 ', '3 ', '0 ', '95.4%, n=3 ', '', '1416 sec, n=3 ']]\n"
     ]
    }
   ],
   "source": [
    "image = page.viz()\n",
    "plt.figure(figsize=(10, 5))\n",
    "plt.axis('off')\n",
    "plt.imshow(image)\n",
    "plt.show()\n",
    "print(page.tables[0])\n",
    "table = page.tables[0]\n",
    "print(table.csv)\n"
   ]
  }
 ],
 "metadata": {
  "kernelspec": {
   "display_name": "deepdo",
   "language": "python",
   "name": "python3"
  },
  "language_info": {
   "codemirror_mode": {
    "name": "ipython",
    "version": 3
   },
   "file_extension": ".py",
   "mimetype": "text/x-python",
   "name": "python",
   "nbconvert_exporter": "python",
   "pygments_lexer": "ipython3",
   "version": "3.11.5"
  }
 },
 "nbformat": 4,
 "nbformat_minor": 2
}
